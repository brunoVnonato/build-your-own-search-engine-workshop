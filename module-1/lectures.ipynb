{
 "cells": [
  {
   "cell_type": "markdown",
   "id": "d5231f4a",
   "metadata": {},
   "source": [
    "### Calling OpenAI API"
   ]
  },
  {
   "cell_type": "code",
   "execution_count": 2,
   "id": "c596ffe4",
   "metadata": {},
   "outputs": [],
   "source": [
    "import os\n",
    "from dotenv import load_dotenv\n",
    "from openai import OpenAI"
   ]
  },
  {
   "cell_type": "code",
   "execution_count": 3,
   "id": "a64875f7",
   "metadata": {},
   "outputs": [],
   "source": [
    "load_dotenv()\n",
    "OPENAI_API_KEY = os.getenv('OPENAI_API_KEY')"
   ]
  },
  {
   "cell_type": "code",
   "execution_count": null,
   "id": "122f890b",
   "metadata": {},
   "outputs": [
    {
     "name": "stdout",
     "output_type": "stream",
     "text": [
      "Using `.env` files in Python applications is a common practice for managing environment variables and configuration settings without hardcoding them in your source code. The most popular way to do this is by using the `python-dotenv` library, which simplifies the process of loading environment variables from a `.env` file.\n",
      "\n",
      "Here's a step-by-step guide along with an example:\n",
      "\n",
      "### Step 1: Install `python-dotenv`\n",
      "\n",
      "If you don't have `python-dotenv` installed yet, you can install it using pip:\n",
      "\n",
      "```bash\n",
      "pip install python-dotenv\n",
      "```\n",
      "\n",
      "### Step 2: Create a `.env` File\n",
      "\n",
      "Create a file named `.env` in your project directory. This file should contain your environment variables in the format `KEY=VALUE`. For example:\n",
      "\n",
      "```plaintext\n",
      "# .env\n",
      "API_KEY=your_api_key_here\n",
      "DATABASE_URL=sqlite:///my_database.db\n",
      "DEBUG=True\n",
      "```\n",
      "\n",
      "### Step 3: Load the Environment Variables in Your Python Code\n",
      "\n",
      "You can now load the environment variables from the `.env` file in your Python script. Here’s an example:\n",
      "\n",
      "```python\n",
      "import os\n",
      "from dotenv import load_dotenv\n",
      "\n",
      "# Load environment variables from the .env file\n",
      "load_dotenv()\n",
      "\n",
      "# Now you can access your environment variables using os.environ\n",
      "api_key = os.getenv('API_KEY')\n",
      "database_url = os.getenv('DATABASE_URL')\n",
      "debug_mode = os.getenv('DEBUG') == 'True'  # Convert to boolean\n",
      "\n",
      "# Example usage\n",
      "if debug_mode:\n",
      "    print(\"Debug mode is on\")\n",
      "print(f\"Using API key: {api_key}\")\n",
      "print(f\"Connecting to database at: {database_url}\")\n",
      "```\n",
      "\n",
      "### Step 4: Run Your Python Script\n",
      "\n",
      "Run your Python script as you normally would:\n",
      "\n",
      "```bash\n",
      "python your_script.py\n",
      "```\n",
      "\n",
      "### Summary\n",
      "\n",
      "- **Install `python-dotenv`:** This library will help you load environment variables from a `.env` file.\n",
      "- **Create a `.env` file:** Define your key-value pairs for configuration.\n",
      "- **Load variables in your script:** Use `load_dotenv()` and `os.getenv()` to access the variables.\n",
      "\n",
      "### Note\n",
      "\n",
      "Make sure not to commit your `.env` file containing sensitive information to version control (e.g., Git). You can add it to your `.gitignore` file to prevent accidental commits:\n",
      "\n",
      "```plaintext\n",
      "# .gitignore\n",
      ".env\n",
      "```\n",
      "\n",
      "This approach helps you keep your configuration secure and easily manageable across different environments (development, testing, production, etc.).\n"
     ]
    }
   ],
   "source": [
    "openai_client = OpenAI(\n",
    "  api_key=OPENAI_API_KEY\n",
    ")\n",
    "\n",
    "completion = client.chat.completions.create(\n",
    "  model=\"gpt-4o-mini\",\n",
    "  store=True,\n",
    "  messages=[\n",
    "    {\"role\": \"user\", \"content\": \"How can i use .env files with python example\"}\n",
    "  ]\n",
    ")\n",
    "\n",
    "print(completion.choices[0].message.content);"
   ]
  },
  {
   "cell_type": "markdown",
   "id": "e17cf798",
   "metadata": {},
   "source": [
    "### Retrieval"
   ]
  },
  {
   "cell_type": "code",
   "execution_count": 4,
   "id": "f6c1f5f3",
   "metadata": {},
   "outputs": [],
   "source": [
    "# search-engine in the search-engine folder installed via uv add.\n",
    "import minsearch\n",
    "import json"
   ]
  },
  {
   "cell_type": "code",
   "execution_count": 5,
   "id": "ca22d240",
   "metadata": {},
   "outputs": [],
   "source": [
    "documents = []\n",
    "\n",
    "with open('documents.json', 'rt') as f_in:\n",
    "    docs_raw = json.load(f_in)\n",
    "\n",
    "for course_dict in docs_raw:\n",
    "    for doc in course_dict['documents']:\n",
    "        doc['course'] = course_dict['course']\n",
    "        documents.append(doc)"
   ]
  },
  {
   "cell_type": "code",
   "execution_count": 24,
   "id": "b690fa65",
   "metadata": {},
   "outputs": [],
   "source": [
    "# creating index\n",
    "index = minsearch.Index(\n",
    "            text_fields=[\"question\", \"text\", \"section\"],\n",
    "            keyword_fields=[\"course\"]\n",
    ")\n",
    "\n",
    "index.fit(documents)\n",
    "\n",
    "# Performing a search\n",
    "q=\"the course has already started, can i still enroll?\"\n",
    "\n",
    "boost = {\"question\": 3.0,\n",
    "         \"section\": 0.5,\n",
    "        }\n",
    "\n",
    "results = index.search(\n",
    "    query=q,\n",
    "    filter_dict= {'course': 'data-engineering-zoomcamp'},\n",
    "    boost_dict=boost,\n",
    "    num_results=5\n",
    ")"
   ]
  },
  {
   "cell_type": "code",
   "execution_count": 26,
   "id": "e094672f",
   "metadata": {},
   "outputs": [
    {
     "data": {
      "text/plain": [
       "{'text': \"Yes, even if you don't register, you're still eligible to submit the homeworks.\\nBe aware, however, that there will be deadlines for turning in the final projects. So don't leave everything for the last minute.\",\n",
       " 'section': 'General course-related questions',\n",
       " 'question': 'Course - Can I still join the course after the start date?',\n",
       " 'course': 'data-engineering-zoomcamp'}"
      ]
     },
     "execution_count": 26,
     "metadata": {},
     "output_type": "execute_result"
    }
   ],
   "source": [
    "results[0]"
   ]
  },
  {
   "cell_type": "markdown",
   "id": "9ddf4dc1",
   "metadata": {},
   "source": [
    "### Generation with OpenAI"
   ]
  },
  {
   "cell_type": "code",
   "execution_count": 27,
   "id": "5fc5680b",
   "metadata": {},
   "outputs": [],
   "source": [
    "from openai import OpenAI"
   ]
  },
  {
   "cell_type": "code",
   "execution_count": 31,
   "id": "13b94e47",
   "metadata": {},
   "outputs": [
    {
     "data": {
      "text/plain": [
       "\"Whether you can still enroll in a course that has already started typically depends on the institution or program's policies. Here are a few steps you can take:\\n\\n1. **Check the Enrollment Policy:** Look at the course or program's official website to see if they allow late enrollment.\\n\\n2. **Contact the Instructor or Admissions Office:** Reach out directly to the course instructor or the admissions office for clarification. They can provide specific guidance based on the program's policies.\\n\\n3. **Consider a Waitlist:** Some programs may have a waitlist for students who want to enroll after the course has begun.\\n\\n4. **Look for Similar Courses:** If enrollment is not possible, check if there are similar courses offered in the future.\\n\\n5. **Online Options:** If it’s an online course, you may have a better chance of enrolling late, as many online programs are more flexible.\\n\\nBe proactive in your inquiry, and you may find a solution!\""
      ]
     },
     "execution_count": 31,
     "metadata": {},
     "output_type": "execute_result"
    }
   ],
   "source": [
    "client = OpenAI()\n",
    "\n",
    "response = client.chat.completions.create(\n",
    "                model = \"gpt-4o-mini\",\n",
    "                messages=[{\"role\":\"user\", \"content\":q}]\n",
    "                )\n",
    "\n",
    "response.choices[0].message.content"
   ]
  },
  {
   "cell_type": "markdown",
   "id": "f42d36f3",
   "metadata": {},
   "source": [
    "### Cleaned RAG Flow"
   ]
  },
  {
   "cell_type": "code",
   "execution_count": null,
   "id": "62a8cc1b",
   "metadata": {},
   "outputs": [],
   "source": [
    "def search(query):\n",
    "    boost = {'question': 3.0, 'section': 0.5}\n",
    "\n",
    "    results = index.search(\n",
    "        query=query,\n",
    "        filter_dict={'course': 'data-engineering-zoomcamp'},\n",
    "        boost_dict=boost,\n",
    "        num_results=5\n",
    "    )\n",
    "\n",
    "    return results\n",
    "\n",
    "def elastic_search(query):\n",
    "\n",
    "    \"\"\"\n",
    "    \"\"\"\n",
    "\n",
    "    search_query = {\n",
    "        \"size\": 5,\n",
    "        \"query\": {\n",
    "            \"bool\": {\n",
    "                \"must\": {\n",
    "                    \"multi_match\": {\n",
    "                        \"query\": query,\n",
    "                        \"fields\": [\"question^3\", \"text\", \"section\"],\n",
    "                        \"type\": \"most_fields\"\n",
    "                    }\n",
    "                },\n",
    "                \"filter\": {\n",
    "                    \"term\": {\n",
    "                        \"course\": \"data-engineering-zoomcamp\"\n",
    "                    }\n",
    "                }\n",
    "            }\n",
    "        }\n",
    "    }\n",
    "\n",
    "    response = es_client.search(index=index_name, body=search_query)\n",
    "\n",
    "    # extracting the results\n",
    "    result_docs = []\n",
    "\n",
    "    for hit in response['hits']['hits']:\n",
    "        result_docs.append(hit['_source'])\n",
    "\n",
    "    return result_docs\n",
    "\n",
    "def prompt_builder(query: str, search_results: list)->str:\n",
    "\n",
    "    \"\"\"\n",
    "    \"\"\"\n",
    "    \n",
    "    prompt_template= \"\"\"You're a course teaching assistant. Answer the QUESTION based on the CONTEXT from the FAQ database.\n",
    "    Use only the facts from the CONTEXT when answering the QUESTION.\n",
    "\n",
    "    QUESTION: {question}\n",
    "\n",
    "    CONTEXT: \n",
    "    {context}\"\"\".strip()\n",
    "\n",
    "    context = \"\"\n",
    "\n",
    "\n",
    "    for doc in search_results:\n",
    "        context = context+f\"section: {doc['section']}\\nquestion: {doc['question']}\\nanswer: {doc['text']}\\n\\n\"\n",
    "\n",
    "    prompt = prompt_template.format(question=query, context=context).strip()\n",
    "\n",
    "    return prompt\n",
    "\n",
    "def llm(prompt:str)->str:\n",
    "\n",
    "    \"\"\"\n",
    "    \"\"\"\n",
    "    \n",
    "    client = OpenAI()\n",
    "    response = client.chat.completions.create(\n",
    "                model = \"gpt-4o-mini\",\n",
    "                messages=[{\"role\":\"user\", \"content\":prompt}]\n",
    "                )\n",
    "\n",
    "    return response.choices[0].message.content\n",
    "\n",
    "\n",
    "# The RAG\n",
    "query = 'how do I run kafka?'\n",
    "def rag(query):\n",
    "    search_results = elastic_search(query)\n",
    "    prompt = prompt_builder(query, search_results)\n",
    "    answer = llm(prompt)\n",
    "    return answer\n",
    "\n"
   ]
  },
  {
   "cell_type": "code",
   "execution_count": 14,
   "id": "c6b698e5",
   "metadata": {},
   "outputs": [
    {
     "name": "stderr",
     "output_type": "stream",
     "text": [
      "/tmp/ipykernel_336469/2911402124.py:38: DeprecationWarning: The 'body' parameter is deprecated and will be removed in a future version. Instead use individual parameters.\n",
      "  response = es_client.search(index=index_name, body=search_query)\n"
     ]
    },
    {
     "data": {
      "text/plain": [
       "\"Running Apache Kafka involves several steps, including installation, configuration, and starting the necessary services. Below is a guide to help you get started with running Kafka:\\n\\n### Prerequisites\\n\\n1. **Java Installation**: Kafka runs on the Java Virtual Machine (JVM), so you need to have Java installed. Kafka requires Java 8 or higher:\\n   - You can check if Java is installed by running `java -version` in your terminal.\\n   - If it's not installed, download and install the JDK from the official [Oracle](https://www.oracle.com/java/technologies/javase-jdk11-downloads.html) or [OpenJDK](https://openjdk.java.net/) websites.\\n\\n2. **zookeeper**: Kafka depends on ZooKeeper for managing distributed brokers. However, recent versions of Kafka (from 2.8.0) allow you to run Kafka without ZooKeeper, so check your version.\\n\\n### Step 1: Download Kafka\\n\\n1. Download Kafka from the official [Apache Kafka website](https://kafka.apache.org/downloads).\\n\\n2. Extract the downloaded archive:\\n   ```bash\\n   tar -xzf kafka_2.13-<version>.tgz\\n   cd kafka_2.13-<version>\\n   ```\\n\\n### Step 2: Start ZooKeeper (If Required)\\n\\nIf you're running a version that requires ZooKeeper, you can start it with the following command:\\n\\n```bash\\nbin/zookeeper-server-start.sh config/zookeeper.properties\\n```\\n\\n### Step 3: Start Kafka Server\\n\\nAfter ZooKeeper is running, start the Kafka broker:\\n\\n```bash\\nbin/kafka-server-start.sh config/server.properties\\n```\\n\\n### Step 4: Create a Topic\\n\\nOnce Kafka is running, you can create a topic. Open a new terminal window (do not close the Kafka and ZooKeeper terminals) and run the following command:\\n\\n```bash\\nbin/kafka-topics.sh --create --topic test --bootstrap-server localhost:9092 --partitions 1 --replication-factor 1\\n```\\n\\n### Step 5: Produce Messages\\n\\nYou can produce messages to your topic using the console producer:\\n\\n```bash\\nbin/kafka-console-producer.sh --topic test --bootstrap-server localhost:9092\\n```\\n\\nAfter running this command, you can type messages in the terminal. Press Enter to send each message.\\n\\n### Step 6: Consume Messages\\n\\nIn another terminal window, use the console consumer to read messages from the topic:\\n\\n```bash\\nbin/kafka-console-consumer.sh --topic test --bootstrap-server localhost:9092 --from-beginning\\n```\\n\\nThis command will start consuming messages from the beginning of the topic.\\n\\n### Step 7: Stop Kafka and ZooKeeper\\n\\nTo stop the Kafka server, press `Ctrl+C` in the terminal running the Kafka broker. Similarly, if you started ZooKeeper, stop it using `Ctrl+C` as well.\\n\\n### Additional Notes\\n\\n- **Configuration**: You can modify the default configuration files (`config/server.properties` and `config/zookeeper.properties`) to suit your needs, such as tweaking memory settings, adjusting the number of partitions, etc.\\n  \\n- **Running Without ZooKeeper**: If you're using Kafka 2.8.0 or later, you can start Kafka in a KRaft mode without ZooKeeper. For that, you would typically follow similar steps but with different configuration settings. Check the [official documentation](https://kafka.apache.org/documentation/#kraft) for details.\\n\\n- **Monitoring and Management**: Consider using tools like Kafka Manager, Confluent Control Center, or other monitoring solutions for managing and monitoring Kafka clusters in production.\\n\\nThat's it! You now have a basic setup of Kafka running on your machine. For more advanced configurations, consider diving into the [official Kafka documentation](https://kafka.apache.org/documentation/).\""
      ]
     },
     "execution_count": 14,
     "metadata": {},
     "output_type": "execute_result"
    }
   ],
   "source": [
    "q=\"How to run Kafka\"\n",
    "rag(query=q)"
   ]
  },
  {
   "cell_type": "markdown",
   "id": "7e4aae93",
   "metadata": {},
   "source": [
    "### ElasticSearch"
   ]
  },
  {
   "cell_type": "code",
   "execution_count": 8,
   "id": "181570fa",
   "metadata": {},
   "outputs": [],
   "source": [
    "from elasticsearch import Elasticsearch\n",
    "from tqdm.auto import tqdm"
   ]
  },
  {
   "cell_type": "code",
   "execution_count": 9,
   "id": "7a39e08f",
   "metadata": {},
   "outputs": [
    {
     "data": {
      "text/plain": [
       "ObjectApiResponse({'name': '52935299c7d8', 'cluster_name': 'docker-cluster', 'cluster_uuid': 'FrWtgshEQPC7d6Athokahw', 'version': {'number': '8.4.3', 'build_flavor': 'default', 'build_type': 'docker', 'build_hash': '42f05b9372a9a4a470db3b52817899b99a76ee73', 'build_date': '2022-10-04T07:17:24.662462378Z', 'build_snapshot': False, 'lucene_version': '9.3.0', 'minimum_wire_compatibility_version': '7.17.0', 'minimum_index_compatibility_version': '7.0.0'}, 'tagline': 'You Know, for Search'})"
      ]
     },
     "execution_count": 9,
     "metadata": {},
     "output_type": "execute_result"
    }
   ],
   "source": [
    "es_client = Elasticsearch('http://localhost:9200')\n",
    "es_client.info()"
   ]
  },
  {
   "cell_type": "code",
   "execution_count": 13,
   "id": "6efbe393",
   "metadata": {},
   "outputs": [],
   "source": [
    "index_settings={\n",
    "                \"settings\": {\n",
    "                    \"number_of_shards\": 1,\n",
    "                    \"number_of_replicas\": 0\n",
    "                },\n",
    "                \"mappings\": {\n",
    "                    \"properties\": {\n",
    "                        \"text\": {\"type\": \"text\"},\n",
    "                        \"section\": {\"type\": \"text\"},\n",
    "                        \"question\": {\"type\": \"text\"},\n",
    "                        \"course\": {\"type\": \"keyword\"} \n",
    "                        }\n",
    "                    }\n",
    "                }\n",
    "\n",
    "index_name = \"course-question\"\n",
    "\n",
    "#es_client.indices.create(index=index_name, body=index_settings)"
   ]
  },
  {
   "cell_type": "code",
   "execution_count": 12,
   "id": "338eace6",
   "metadata": {},
   "outputs": [],
   "source": [
    "# Indexing process\n",
    "for doc in documents:\n",
    "    es_client.index(index=index_name, document=doc)"
   ]
  },
  {
   "cell_type": "code",
   "execution_count": 13,
   "id": "5efe2881",
   "metadata": {},
   "outputs": [
    {
     "name": "stderr",
     "output_type": "stream",
     "text": [
      "/tmp/ipykernel_165946/558494814.py:22: DeprecationWarning: The 'body' parameter is deprecated and will be removed in a future version. Instead use individual parameters.\n",
      "  response = es_client.search(index=index_name, body=search_query)\n"
     ]
    }
   ],
   "source": [
    "query=\"I just discovered the course. Can I still join it?\"\n",
    "search_query = {\n",
    "    \"size\": 5,\n",
    "    \"query\": {\n",
    "        \"bool\": {\n",
    "            \"must\": {\n",
    "                \"multi_match\": {\n",
    "                    \"query\": query,\n",
    "                    \"fields\": [\"question^3\", \"text\", \"section\"],\n",
    "                    \"type\": \"best_fields\"\n",
    "                }\n",
    "            },\n",
    "            \"filter\": {\n",
    "                \"term\": {\n",
    "                    \"course\": \"data-engineering-zoomcamp\"\n",
    "                }\n",
    "            }\n",
    "        }\n",
    "    }\n",
    "}\n",
    "\n",
    "response = es_client.search(index=index_name, body=search_query)"
   ]
  },
  {
   "cell_type": "code",
   "execution_count": 14,
   "id": "0506875e",
   "metadata": {},
   "outputs": [
    {
     "data": {
      "text/plain": [
       "[{'text': \"Yes, even if you don't register, you're still eligible to submit the homeworks.\\nBe aware, however, that there will be deadlines for turning in the final projects. So don't leave everything for the last minute.\",\n",
       "  'section': 'General course-related questions',\n",
       "  'question': 'Course - Can I still join the course after the start date?',\n",
       "  'course': 'data-engineering-zoomcamp'},\n",
       " {'text': 'Yes, we will keep all the materials after the course finishes, so you can follow the course at your own pace after it finishes.\\nYou can also continue looking at the homeworks and continue preparing for the next cohort. I guess you can also start working on your final capstone project.',\n",
       "  'section': 'General course-related questions',\n",
       "  'question': 'Course - Can I follow the course after it finishes?',\n",
       "  'course': 'data-engineering-zoomcamp'},\n",
       " {'text': 'You can start by installing and setting up all the dependencies and requirements:\\nGoogle cloud account\\nGoogle Cloud SDK\\nPython 3 (installed with Anaconda)\\nTerraform\\nGit\\nLook over the prerequisites and syllabus to see if you are comfortable with these subjects.',\n",
       "  'section': 'General course-related questions',\n",
       "  'question': 'Course - What can I do before the course starts?',\n",
       "  'course': 'data-engineering-zoomcamp'},\n",
       " {'text': 'Yes, the slack channel remains open and you can ask questions there. But always sDocker containers exit code w search the channel first and second, check the FAQ (this document), most likely all your questions are already answered here.\\nYou can also tag the bot @ZoomcampQABot to help you conduct the search, but don’t rely on its answers 100%, it is pretty good though.',\n",
       "  'section': 'General course-related questions',\n",
       "  'question': 'Course - Can I get support if I take the course in the self-paced mode?',\n",
       "  'course': 'data-engineering-zoomcamp'},\n",
       " {'text': \"You don't need it. You're accepted. You can also just start learning and submitting homework without registering. It is not checked against any registered list. Registration is just to gauge interest before the start date.\",\n",
       "  'section': 'General course-related questions',\n",
       "  'question': 'Course - I have registered for the Data Engineering Bootcamp. When can I expect to receive the confirmation email?',\n",
       "  'course': 'data-engineering-zoomcamp'}]"
      ]
     },
     "execution_count": 14,
     "metadata": {},
     "output_type": "execute_result"
    }
   ],
   "source": [
    "# extracting the results\n",
    "result_docs = []\n",
    "\n",
    "for hit in response['hits']['hits']:\n",
    "    result_docs.append(hit['_source'])\n",
    "\n",
    "result_docs"
   ]
  },
  {
   "cell_type": "code",
   "execution_count": 15,
   "id": "217019f7",
   "metadata": {},
   "outputs": [],
   "source": [
    "def elastic_search(query):\n",
    "\n",
    "    \"\"\"\n",
    "    \"\"\"\n",
    "\n",
    "    search_query = {\n",
    "        \"size\": 5,\n",
    "        \"query\": {\n",
    "            \"bool\": {\n",
    "                \"must\": {\n",
    "                    \"multi_match\": {\n",
    "                        \"query\": query,\n",
    "                        \"fields\": [\"question^3\", \"text\", \"section\"],\n",
    "                        \"type\": \"best_fields\"\n",
    "                    }\n",
    "                },\n",
    "                \"filter\": {\n",
    "                    \"term\": {\n",
    "                        \"course\": \"data-engineering-zoomcamp\"\n",
    "                    }\n",
    "                }\n",
    "            }\n",
    "        }\n",
    "    }\n",
    "\n",
    "    response = es_client.search(index=index_name, body=search_query)\n",
    "\n",
    "    # extracting the results\n",
    "    result_docs = []\n",
    "\n",
    "    for hit in response['hits']['hits']:\n",
    "        result_docs.append(hit['_score'])\n",
    "\n",
    "    return result_docs"
   ]
  },
  {
   "cell_type": "code",
   "execution_count": 16,
   "id": "480ed773",
   "metadata": {},
   "outputs": [
    {
     "name": "stderr",
     "output_type": "stream",
     "text": [
      "/tmp/ipykernel_336469/3641104298.py:26: DeprecationWarning: The 'body' parameter is deprecated and will be removed in a future version. Instead use individual parameters.\n",
      "  response = es_client.search(index=index_name, body=search_query)\n"
     ]
    },
    {
     "data": {
      "text/plain": [
       "[30.49997, 30.49997, 30.49997, 26.447298, 26.447298]"
      ]
     },
     "execution_count": 16,
     "metadata": {},
     "output_type": "execute_result"
    }
   ],
   "source": [
    "elastic_search(query=query)"
   ]
  },
  {
   "cell_type": "code",
   "execution_count": null,
   "id": "fc71ebb5",
   "metadata": {},
   "outputs": [],
   "source": []
  }
 ],
 "metadata": {
  "kernelspec": {
   "display_name": ".venv",
   "language": "python",
   "name": "python3"
  },
  "language_info": {
   "codemirror_mode": {
    "name": "ipython",
    "version": 3
   },
   "file_extension": ".py",
   "mimetype": "text/x-python",
   "name": "python",
   "nbconvert_exporter": "python",
   "pygments_lexer": "ipython3",
   "version": "3.10.12"
  }
 },
 "nbformat": 4,
 "nbformat_minor": 5
}
