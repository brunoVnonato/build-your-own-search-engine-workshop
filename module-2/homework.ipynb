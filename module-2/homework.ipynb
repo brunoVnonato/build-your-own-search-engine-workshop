{
 "cells": [
  {
   "cell_type": "markdown",
   "id": "8cba5510",
   "metadata": {},
   "source": [
    "# Homework: Vector Search"
   ]
  },
  {
   "cell_type": "code",
   "execution_count": 8,
   "id": "8f6da3fd",
   "metadata": {},
   "outputs": [],
   "source": [
    "import numpy as np\n",
    "from fastembed import TextEmbedding"
   ]
  },
  {
   "cell_type": "markdown",
   "id": "3b235137",
   "metadata": {},
   "source": [
    "# Q1. Embedding the query"
   ]
  },
  {
   "cell_type": "code",
   "execution_count": 27,
   "id": "0d5c1aef",
   "metadata": {},
   "outputs": [
    {
     "name": "stdout",
     "output_type": "stream",
     "text": [
      "-0.11726373885183883\n"
     ]
    }
   ],
   "source": [
    "# R:. -0.11\n",
    "query = 'I just discovered the course. Can I join now?'\n",
    "model_handle = \"jinaai/jina-embeddings-v2-small-en\"\n",
    "\n",
    "# Embedding\n",
    "embedding_model = TextEmbedding(model_name=model_handle)\n",
    "\n",
    "embeddings = embedding_model.embed(query)\n",
    "vector = list(embeddings)[0] \n",
    "print(vector.min())\n"
   ]
  },
  {
   "cell_type": "markdown",
   "id": "59fcbfc7",
   "metadata": {},
   "source": [
    "# Q2. Cosine similarity with another vector"
   ]
  },
  {
   "cell_type": "code",
   "execution_count": null,
   "id": "4380860b",
   "metadata": {},
   "outputs": [
    {
     "data": {
      "text/plain": [
       "np.float64(0.9008528895674548)"
      ]
     },
     "execution_count": 28,
     "metadata": {},
     "output_type": "execute_result"
    }
   ],
   "source": [
    "# R:. 0.90\n",
    "doc = 'Can I still join the course after the start date?'\n",
    "\n",
    "embed_doc = embedding_model.embed(doc)\n",
    "vector_doc = list(embed_doc)[0]\n",
    "\n",
    "#Similarity\n",
    "vector.dot(vector_doc)"
   ]
  },
  {
   "cell_type": "markdown",
   "id": "5139121a",
   "metadata": {},
   "source": [
    "# Q3. Ranking by cosine"
   ]
  },
  {
   "cell_type": "code",
   "execution_count": null,
   "id": "97ed0993",
   "metadata": {},
   "outputs": [],
   "source": [
    "# r:.1\n",
    "documents = [{'text': \"Yes, even if you don't register, you're still eligible to submit the homeworks.\\nBe aware, however, that there will be deadlines for turning in the final projects. So don't leave everything for the last minute.\",\n",
    "  'section': 'General course-related questions',\n",
    "  'question': 'Course - Can I still join the course after the start date?',\n",
    "  'course': 'data-engineering-zoomcamp'},\n",
    " {'text': 'Yes, we will keep all the materials after the course finishes, so you can follow the course at your own pace after it finishes.\\nYou can also continue looking at the homeworks and continue preparing for the next cohort. I guess you can also start working on your final capstone project.',\n",
    "  'section': 'General course-related questions',\n",
    "  'question': 'Course - Can I follow the course after it finishes?',\n",
    "  'course': 'data-engineering-zoomcamp'},\n",
    " {'text': \"The purpose of this document is to capture frequently asked technical questions\\nThe exact day and hour of the course will be 15th Jan 2024 at 17h00. The course will start with the first  “Office Hours'' live.1\\nSubscribe to course public Google Calendar (it works from Desktop only).\\nRegister before the course starts using this link.\\nJoin the course Telegram channel with announcements.\\nDon’t forget to register in DataTalks.Club's Slack and join the channel.\",\n",
    "  'section': 'General course-related questions',\n",
    "  'question': 'Course - When will the course start?',\n",
    "  'course': 'data-engineering-zoomcamp'},\n",
    " {'text': 'You can start by installing and setting up all the dependencies and requirements:\\nGoogle cloud account\\nGoogle Cloud SDK\\nPython 3 (installed with Anaconda)\\nTerraform\\nGit\\nLook over the prerequisites and syllabus to see if you are comfortable with these subjects.',\n",
    "  'section': 'General course-related questions',\n",
    "  'question': 'Course - What can I do before the course starts?',\n",
    "  'course': 'data-engineering-zoomcamp'},\n",
    " {'text': 'Star the repo! Share it with friends if you find it useful ❣️\\nCreate a PR if you see you can improve the text or the structure of the repository.',\n",
    "  'section': 'General course-related questions',\n",
    "  'question': 'How can we contribute to the course?',\n",
    "  'course': 'data-engineering-zoomcamp'}]"
   ]
  },
  {
   "cell_type": "code",
   "execution_count": 64,
   "id": "039d9923",
   "metadata": {},
   "outputs": [],
   "source": [
    "V=[]\n",
    "for doc in documents: \n",
    "    embeded = embedding_model.embed(doc['text'])\n",
    "    v = list(embeded)[0]\n",
    "    sm = v.dot(vector)\n",
    "    V.append(sm)"
   ]
  },
  {
   "cell_type": "code",
   "execution_count": null,
   "id": "b801b538",
   "metadata": {},
   "outputs": [
    {
     "data": {
      "text/plain": [
       "np.int64(1)"
      ]
     },
     "execution_count": 72,
     "metadata": {},
     "output_type": "execute_result"
    }
   ],
   "source": [
    "np.argmax(V)"
   ]
  },
  {
   "cell_type": "markdown",
   "id": "08f23d38",
   "metadata": {},
   "source": [
    "# Q4. Ranking by cosine, version two"
   ]
  },
  {
   "cell_type": "code",
   "execution_count": null,
   "id": "e18d47fa",
   "metadata": {},
   "outputs": [],
   "source": [
    "#R:. 0 \n",
    "V=[]\n",
    "for doc in documents: \n",
    "    full_text = doc['question'] + ' ' + doc['text']\n",
    "    embeded = embedding_model.embed(full_text)\n",
    "    v = list(embeded)[0]\n",
    "    sm = v.dot(vector)\n",
    "    V.append(sm)"
   ]
  },
  {
   "cell_type": "code",
   "execution_count": 74,
   "id": "9eea7739",
   "metadata": {},
   "outputs": [
    {
     "data": {
      "text/plain": [
       "[np.float64(0.8514543236908068),\n",
       " np.float64(0.8436594159113068),\n",
       " np.float64(0.8408287048502558),\n",
       " np.float64(0.7755157969663908),\n",
       " np.float64(0.8086007795043938)]"
      ]
     },
     "execution_count": 74,
     "metadata": {},
     "output_type": "execute_result"
    }
   ],
   "source": [
    "V"
   ]
  },
  {
   "cell_type": "markdown",
   "id": "40da9463",
   "metadata": {},
   "source": [
    "# Q5. Selecting the embedding model"
   ]
  },
  {
   "cell_type": "code",
   "execution_count": null,
   "id": "1a9f157d",
   "metadata": {},
   "outputs": [],
   "source": [
    "# R:.384\n",
    "dims = {}\n",
    "for model in TextEmbedding.list_supported_models():\n",
    "    dims[model['model']] = model['dim']"
   ]
  },
  {
   "cell_type": "code",
   "execution_count": 78,
   "id": "26370efe",
   "metadata": {},
   "outputs": [
    {
     "data": {
      "text/plain": [
       "[('BAAI/bge-small-en', 384),\n",
       " ('BAAI/bge-small-en-v1.5', 384),\n",
       " ('snowflake/snowflake-arctic-embed-xs', 384),\n",
       " ('snowflake/snowflake-arctic-embed-s', 384),\n",
       " ('sentence-transformers/all-MiniLM-L6-v2', 384),\n",
       " ('sentence-transformers/paraphrase-multilingual-MiniLM-L12-v2', 384),\n",
       " ('BAAI/bge-small-zh-v1.5', 512),\n",
       " ('Qdrant/clip-ViT-B-32-text', 512),\n",
       " ('jinaai/jina-embeddings-v2-small-en', 512),\n",
       " ('BAAI/bge-base-en', 768),\n",
       " ('BAAI/bge-base-en-v1.5', 768),\n",
       " ('snowflake/snowflake-arctic-embed-m', 768),\n",
       " ('snowflake/snowflake-arctic-embed-m-long', 768),\n",
       " ('jinaai/jina-clip-v1', 768),\n",
       " ('jinaai/jina-embeddings-v2-base-en', 768),\n",
       " ('jinaai/jina-embeddings-v2-base-de', 768),\n",
       " ('jinaai/jina-embeddings-v2-base-code', 768),\n",
       " ('jinaai/jina-embeddings-v2-base-zh', 768),\n",
       " ('jinaai/jina-embeddings-v2-base-es', 768),\n",
       " ('thenlper/gte-base', 768),\n",
       " ('nomic-ai/nomic-embed-text-v1.5', 768),\n",
       " ('nomic-ai/nomic-embed-text-v1.5-Q', 768),\n",
       " ('nomic-ai/nomic-embed-text-v1', 768),\n",
       " ('sentence-transformers/paraphrase-multilingual-mpnet-base-v2', 768),\n",
       " ('BAAI/bge-large-en-v1.5', 1024),\n",
       " ('mixedbread-ai/mxbai-embed-large-v1', 1024),\n",
       " ('snowflake/snowflake-arctic-embed-l', 1024),\n",
       " ('thenlper/gte-large', 1024),\n",
       " ('intfloat/multilingual-e5-large', 1024),\n",
       " ('jinaai/jina-embeddings-v3', 1024)]"
      ]
     },
     "execution_count": 78,
     "metadata": {},
     "output_type": "execute_result"
    }
   ],
   "source": [
    "sorted(dims.items(), key=lambda item: item[1])"
   ]
  },
  {
   "cell_type": "markdown",
   "id": "fc7f4cef",
   "metadata": {},
   "source": [
    "# Q6. Indexing with qdrant (2 points)"
   ]
  },
  {
   "cell_type": "code",
   "execution_count": 85,
   "id": "4128a10d",
   "metadata": {},
   "outputs": [],
   "source": [
    "from qdrant_client import QdrantClient, models\n",
    "\n",
    "COLLECTION_NAME = \"homework_q6\"\n",
    "EMBEDDING_DIMENSIONALITY = 384\n",
    "MODEL_HANDLE = \"BAAI/bge-small-en\""
   ]
  },
  {
   "cell_type": "code",
   "execution_count": 86,
   "id": "c1689c3e",
   "metadata": {},
   "outputs": [],
   "source": [
    "# BAAI/bge-small-en\n",
    "import requests \n",
    "\n",
    "docs_url = 'https://github.com/alexeygrigorev/llm-rag-workshop/raw/main/notebooks/documents.json'\n",
    "docs_response = requests.get(docs_url)\n",
    "documents_raw = docs_response.json()\n",
    "\n",
    "\n",
    "documents = []\n",
    "\n",
    "for course in documents_raw:\n",
    "    course_name = course['course']\n",
    "    if course_name != 'machine-learning-zoomcamp':\n",
    "        continue\n",
    "\n",
    "    for doc in course['documents']:\n",
    "        doc['course'] = course_name\n",
    "        documents.append(doc)"
   ]
  },
  {
   "cell_type": "code",
   "execution_count": 87,
   "id": "a473f72c",
   "metadata": {},
   "outputs": [
    {
     "data": {
      "application/vnd.jupyter.widget-view+json": {
       "model_id": "8368dca4f4e94b5da8d62d03695b030d",
       "version_major": 2,
       "version_minor": 0
      },
      "text/plain": [
       "Fetching 5 files:   0%|          | 0/5 [00:00<?, ?it/s]"
      ]
     },
     "metadata": {},
     "output_type": "display_data"
    },
    {
     "data": {
      "application/vnd.jupyter.widget-view+json": {
       "model_id": "073f41e2f2274feeb5cf417826012964",
       "version_major": 2,
       "version_minor": 0
      },
      "text/plain": [
       "config.json:   0%|          | 0.00/701 [00:00<?, ?B/s]"
      ]
     },
     "metadata": {},
     "output_type": "display_data"
    },
    {
     "data": {
      "application/vnd.jupyter.widget-view+json": {
       "model_id": "5dd89f4b956245af8b7eaaedb4607a31",
       "version_major": 2,
       "version_minor": 0
      },
      "text/plain": [
       "special_tokens_map.json:   0%|          | 0.00/125 [00:00<?, ?B/s]"
      ]
     },
     "metadata": {},
     "output_type": "display_data"
    },
    {
     "data": {
      "application/vnd.jupyter.widget-view+json": {
       "model_id": "3d440afde8fa4055b68a3bf06d95d263",
       "version_major": 2,
       "version_minor": 0
      },
      "text/plain": [
       "tokenizer.json:   0%|          | 0.00/711k [00:00<?, ?B/s]"
      ]
     },
     "metadata": {},
     "output_type": "display_data"
    },
    {
     "data": {
      "application/vnd.jupyter.widget-view+json": {
       "model_id": "42a1a7bed4784a8db86262a6c109afc8",
       "version_major": 2,
       "version_minor": 0
      },
      "text/plain": [
       "tokenizer_config.json:   0%|          | 0.00/366 [00:00<?, ?B/s]"
      ]
     },
     "metadata": {},
     "output_type": "display_data"
    },
    {
     "data": {
      "application/vnd.jupyter.widget-view+json": {
       "model_id": "dd27beffbea8404f97c45abd316ccc54",
       "version_major": 2,
       "version_minor": 0
      },
      "text/plain": [
       "model_optimized.onnx:   0%|          | 0.00/133M [00:00<?, ?B/s]"
      ]
     },
     "metadata": {},
     "output_type": "display_data"
    },
    {
     "data": {
      "text/plain": [
       "UpdateResult(operation_id=2, status=<UpdateStatus.COMPLETED: 'completed'>)"
      ]
     },
     "execution_count": 87,
     "metadata": {},
     "output_type": "execute_result"
    }
   ],
   "source": [
    "client = QdrantClient(\"http://localhost:6333\")\n",
    "\n",
    "# Creating the collection\n",
    "client.create_collection(\n",
    "    collection_name=COLLECTION_NAME,\n",
    "    vectors_config=models.VectorParams(\n",
    "        size=EMBEDDING_DIMENSIONALITY,\n",
    "        distance=models.Distance.COSINE\n",
    "    )\n",
    ")\n",
    "\n",
    "# Create a index\n",
    "client.create_payload_index(\n",
    "    collection_name=COLLECTION_NAME,\n",
    "    field_name=\"course\",\n",
    "    field_schema=\"keyword\"\n",
    ")\n",
    "\n",
    "points = []\n",
    "\n",
    "for i, doc in enumerate(documents):\n",
    "\n",
    "        text = doc['question'] + ' ' + doc['text']\n",
    "        vector= models.Document(text=text, model=MODEL_HANDLE)\n",
    "        point = models.PointStruct(\n",
    "            id=i,\n",
    "            vector=vector,\n",
    "            payload=doc\n",
    "        )\n",
    "        points.append(point)\n",
    "\n",
    "\n",
    "# uspsert \n",
    "client.upsert(\n",
    "    collection_name=COLLECTION_NAME,\n",
    "    points=points\n",
    ")\n",
    "\n"
   ]
  },
  {
   "cell_type": "code",
   "execution_count": 93,
   "id": "c0118552",
   "metadata": {},
   "outputs": [],
   "source": [
    "def vector_search(query, limit):\n",
    "    \n",
    "    points= client.query_points(\n",
    "        collection_name=COLLECTION_NAME,\n",
    "        query=models.Document(\n",
    "            text=query,\n",
    "            model=MODEL_HANDLE\n",
    "        ),\n",
    "        limit=limit,\n",
    "        with_payload=True)\n",
    "\n",
    "    results=[]\n",
    "\n",
    "    for point in points.points:\n",
    "        results.append(point.score)\n",
    "\n",
    "    return results \n"
   ]
  },
  {
   "cell_type": "code",
   "execution_count": 94,
   "id": "1749fbb9",
   "metadata": {},
   "outputs": [
    {
     "data": {
      "text/plain": [
       "[0.8703172]"
      ]
     },
     "execution_count": 94,
     "metadata": {},
     "output_type": "execute_result"
    }
   ],
   "source": [
    "vector_search(query=query, limit=1)"
   ]
  },
  {
   "cell_type": "code",
   "execution_count": null,
   "id": "9556157a",
   "metadata": {},
   "outputs": [],
   "source": []
  }
 ],
 "metadata": {
  "kernelspec": {
   "display_name": "build-your-own-search-engine-workshop",
   "language": "python",
   "name": "python3"
  },
  "language_info": {
   "codemirror_mode": {
    "name": "ipython",
    "version": 3
   },
   "file_extension": ".py",
   "mimetype": "text/x-python",
   "name": "python",
   "nbconvert_exporter": "python",
   "pygments_lexer": "ipython3",
   "version": "3.10.12"
  }
 },
 "nbformat": 4,
 "nbformat_minor": 5
}
